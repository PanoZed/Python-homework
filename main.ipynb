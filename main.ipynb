{
 "cells": [
  {
   "cell_type": "code",
   "execution_count": 1,
   "id": "1f7ed2f2-0d47-4e9b-b396-dc91ed5f3706",
   "metadata": {},
   "outputs": [],
   "source": [
    "# set pandas"
   ]
  },
  {
   "cell_type": "code",
   "execution_count": 2,
   "id": "8b1c3ff4-1918-41e1-9b63-77bd3c8c68e2",
   "metadata": {},
   "outputs": [],
   "source": [
    "import pandas as pd"
   ]
  },
  {
   "cell_type": "code",
   "execution_count": 3,
   "id": "4ff5c7e3-37e9-4568-a566-c39aadc72d4a",
   "metadata": {},
   "outputs": [],
   "source": [
    "#import data set downloaded"
   ]
  },
  {
   "cell_type": "code",
   "execution_count": null,
   "id": "5ff007fc-d442-4ce0-bebd-fb88b9994a1c",
   "metadata": {},
   "outputs": [],
   "source": []
  },
  {
   "cell_type": "code",
   "execution_count": 4,
   "id": "9e801c67-6b86-4458-9995-2a86a89ebd93",
   "metadata": {},
   "outputs": [],
   "source": [
    "dataset = pd.read_csv(\"budget_data.csv\")"
   ]
  },
  {
   "cell_type": "code",
   "execution_count": 5,
   "id": "d766cd7d-3fcc-4e66-801a-4d63552438da",
   "metadata": {},
   "outputs": [],
   "source": [
    "count = 0\n",
    "total = 0\n",
    "average = 0\n",
    "minimum = 0\n",
    "maximum = 0"
   ]
  },
  {
   "cell_type": "code",
   "execution_count": 6,
   "id": "43cfa005-34ab-412c-a350-322d284c723a",
   "metadata": {},
   "outputs": [],
   "source": [
    "#minimum_key = \"\"\n",
    "#minimum_value = 0"
   ]
  },
  {
   "cell_type": "code",
   "execution_count": 7,
   "id": "35b4a1e0-a417-4800-b54e-18a4a8e7e016",
   "metadata": {},
   "outputs": [],
   "source": [
    "#maximum_key = \"\"\n",
    "#maximum_value = 0"
   ]
  },
  {
   "cell_type": "code",
   "execution_count": 8,
   "id": "e2d638f6-e5fb-4168-a94f-457f0abe09ff",
   "metadata": {},
   "outputs": [
    {
     "data": {
      "text/html": [
       "<div>\n",
       "<style scoped>\n",
       "    .dataframe tbody tr th:only-of-type {\n",
       "        vertical-align: middle;\n",
       "    }\n",
       "\n",
       "    .dataframe tbody tr th {\n",
       "        vertical-align: top;\n",
       "    }\n",
       "\n",
       "    .dataframe thead th {\n",
       "        text-align: right;\n",
       "    }\n",
       "</style>\n",
       "<table border=\"1\" class=\"dataframe\">\n",
       "  <thead>\n",
       "    <tr style=\"text-align: right;\">\n",
       "      <th></th>\n",
       "      <th>Date</th>\n",
       "      <th>Profit/Losses</th>\n",
       "    </tr>\n",
       "  </thead>\n",
       "  <tbody>\n",
       "    <tr>\n",
       "      <th>0</th>\n",
       "      <td>Jan-2010</td>\n",
       "      <td>867884</td>\n",
       "    </tr>\n",
       "    <tr>\n",
       "      <th>1</th>\n",
       "      <td>Feb-2010</td>\n",
       "      <td>984655</td>\n",
       "    </tr>\n",
       "    <tr>\n",
       "      <th>2</th>\n",
       "      <td>Mar-2010</td>\n",
       "      <td>322013</td>\n",
       "    </tr>\n",
       "    <tr>\n",
       "      <th>3</th>\n",
       "      <td>Apr-2010</td>\n",
       "      <td>-69417</td>\n",
       "    </tr>\n",
       "    <tr>\n",
       "      <th>4</th>\n",
       "      <td>May-2010</td>\n",
       "      <td>310503</td>\n",
       "    </tr>\n",
       "  </tbody>\n",
       "</table>\n",
       "</div>"
      ],
      "text/plain": [
       "       Date  Profit/Losses\n",
       "0  Jan-2010         867884\n",
       "1  Feb-2010         984655\n",
       "2  Mar-2010         322013\n",
       "3  Apr-2010         -69417\n",
       "4  May-2010         310503"
      ]
     },
     "execution_count": 8,
     "metadata": {},
     "output_type": "execute_result"
    }
   ],
   "source": [
    "#check data set loaded\n",
    "dataset.head()"
   ]
  },
  {
   "cell_type": "code",
   "execution_count": null,
   "id": "f4959d51-fc40-40ee-9536-cc3901ae612b",
   "metadata": {},
   "outputs": [],
   "source": []
  },
  {
   "cell_type": "code",
   "execution_count": 24,
   "id": "961faf07-ddf3-489e-8499-172918d26798",
   "metadata": {},
   "outputs": [
    {
     "name": "stdout",
     "output_type": "stream",
     "text": [
      "Financial Analysis\n",
      "-----------------------\n",
      "Total Months: 86\n",
      "Net total P&L: $38382578\n",
      "Average PL: $-2315.12\n",
      "Greatest Increase in Profits: Feb-2012 $1926159.0\n",
      "Greatest Decrease in Profits: Sep-2013 $-2196167.0\n"
     ]
    }
   ],
   "source": [
    "print(\"Financial Analysis\")\n",
    "print(\"-----------------------\")\n",
    "\n",
    "#The total number of months included in the dataset.\n",
    "total_months = len(dataset)\n",
    "print(f\"Total Months: {total_months}\")\n",
    "\n",
    "#The net total amount of Profit/Losses over the entire period.\n",
    "profit_losses = \"Profit/Losses\"\n",
    "profit_losses_sum = dataset[\"Profit/Losses\"].sum()\n",
    "print(f\"Net total P&L: ${profit_losses_sum}\")\n",
    "\n",
    "#The average of the changes in Profit/Losses over the entire period.\n",
    "total_pl = 0\n",
    "dataset[\"Changes\"] = dataset[\"Profit/Losses\"].diff(1)\n",
    "\n",
    "average_pl = dataset[\"Changes\"].mean()\n",
    "print(f\"Average PL: ${round(average_pl,2)}\")\n",
    "\n",
    "#The greatest increase in profits (date and amount) over the entire period.\n",
    "max_value = dataset[\"Changes\"].max()\n",
    "min_value = dataset[\"Changes\"].min()\n",
    "\n",
    "loc_date_max = dataset.loc[dataset[\"Changes\"] == max_value,\"Date\"].values[0]\n",
    "                         \n",
    "                           \n",
    "loc_date_min = dataset.loc[dataset[\"Changes\"] == min_value,\"Date\"].values[0]\n",
    "\n",
    "\n",
    "\n",
    "print(f\"Greatest Increase in Profits: {loc_date_max} ${max_value}\")\n",
    "\n",
    "print(f\"Greatest Decrease in Profits: {loc_date_min} ${min_value}\")\n",
    "\n",
    "\n",
    "    \n",
    "\n",
    "\n",
    "#print(dataset)\n"
   ]
  },
  {
   "cell_type": "code",
   "execution_count": 17,
   "id": "98391886-76c0-4a8e-a8e4-721a143cc30c",
   "metadata": {},
   "outputs": [
    {
     "data": {
      "text/html": [
       "<div>\n",
       "<style scoped>\n",
       "    .dataframe tbody tr th:only-of-type {\n",
       "        vertical-align: middle;\n",
       "    }\n",
       "\n",
       "    .dataframe tbody tr th {\n",
       "        vertical-align: top;\n",
       "    }\n",
       "\n",
       "    .dataframe thead th {\n",
       "        text-align: right;\n",
       "    }\n",
       "</style>\n",
       "<table border=\"1\" class=\"dataframe\">\n",
       "  <thead>\n",
       "    <tr style=\"text-align: right;\">\n",
       "      <th></th>\n",
       "      <th>Date</th>\n",
       "    </tr>\n",
       "  </thead>\n",
       "  <tbody>\n",
       "    <tr>\n",
       "      <th>25</th>\n",
       "      <td>Feb-2012</td>\n",
       "    </tr>\n",
       "  </tbody>\n",
       "</table>\n",
       "</div>"
      ],
      "text/plain": [
       "        Date\n",
       "25  Feb-2012"
      ]
     },
     "execution_count": 17,
     "metadata": {},
     "output_type": "execute_result"
    }
   ],
   "source": [
    "loc_date_max\n"
   ]
  },
  {
   "cell_type": "code",
   "execution_count": 10,
   "id": "fb96efb5-5b26-4c74-be65-1113e2eb66ec",
   "metadata": {},
   "outputs": [
    {
     "data": {
      "text/html": [
       "<div>\n",
       "<style scoped>\n",
       "    .dataframe tbody tr th:only-of-type {\n",
       "        vertical-align: middle;\n",
       "    }\n",
       "\n",
       "    .dataframe tbody tr th {\n",
       "        vertical-align: top;\n",
       "    }\n",
       "\n",
       "    .dataframe thead th {\n",
       "        text-align: right;\n",
       "    }\n",
       "</style>\n",
       "<table border=\"1\" class=\"dataframe\">\n",
       "  <thead>\n",
       "    <tr style=\"text-align: right;\">\n",
       "      <th></th>\n",
       "      <th>Date</th>\n",
       "      <th>Profit/Losses</th>\n",
       "      <th>Changes</th>\n",
       "    </tr>\n",
       "  </thead>\n",
       "  <tbody>\n",
       "    <tr>\n",
       "      <th>0</th>\n",
       "      <td>Jan-2010</td>\n",
       "      <td>867884</td>\n",
       "      <td>NaN</td>\n",
       "    </tr>\n",
       "    <tr>\n",
       "      <th>1</th>\n",
       "      <td>Feb-2010</td>\n",
       "      <td>984655</td>\n",
       "      <td>116771.0</td>\n",
       "    </tr>\n",
       "    <tr>\n",
       "      <th>2</th>\n",
       "      <td>Mar-2010</td>\n",
       "      <td>322013</td>\n",
       "      <td>-662642.0</td>\n",
       "    </tr>\n",
       "    <tr>\n",
       "      <th>3</th>\n",
       "      <td>Apr-2010</td>\n",
       "      <td>-69417</td>\n",
       "      <td>-391430.0</td>\n",
       "    </tr>\n",
       "    <tr>\n",
       "      <th>4</th>\n",
       "      <td>May-2010</td>\n",
       "      <td>310503</td>\n",
       "      <td>379920.0</td>\n",
       "    </tr>\n",
       "    <tr>\n",
       "      <th>...</th>\n",
       "      <td>...</td>\n",
       "      <td>...</td>\n",
       "      <td>...</td>\n",
       "    </tr>\n",
       "    <tr>\n",
       "      <th>81</th>\n",
       "      <td>Oct-2016</td>\n",
       "      <td>102685</td>\n",
       "      <td>-665765.0</td>\n",
       "    </tr>\n",
       "    <tr>\n",
       "      <th>82</th>\n",
       "      <td>Nov-2016</td>\n",
       "      <td>795914</td>\n",
       "      <td>693229.0</td>\n",
       "    </tr>\n",
       "    <tr>\n",
       "      <th>83</th>\n",
       "      <td>Dec-2016</td>\n",
       "      <td>60988</td>\n",
       "      <td>-734926.0</td>\n",
       "    </tr>\n",
       "    <tr>\n",
       "      <th>84</th>\n",
       "      <td>Jan-2017</td>\n",
       "      <td>138230</td>\n",
       "      <td>77242.0</td>\n",
       "    </tr>\n",
       "    <tr>\n",
       "      <th>85</th>\n",
       "      <td>Feb-2017</td>\n",
       "      <td>671099</td>\n",
       "      <td>532869.0</td>\n",
       "    </tr>\n",
       "  </tbody>\n",
       "</table>\n",
       "<p>86 rows × 3 columns</p>\n",
       "</div>"
      ],
      "text/plain": [
       "        Date  Profit/Losses   Changes\n",
       "0   Jan-2010         867884       NaN\n",
       "1   Feb-2010         984655  116771.0\n",
       "2   Mar-2010         322013 -662642.0\n",
       "3   Apr-2010         -69417 -391430.0\n",
       "4   May-2010         310503  379920.0\n",
       "..       ...            ...       ...\n",
       "81  Oct-2016         102685 -665765.0\n",
       "82  Nov-2016         795914  693229.0\n",
       "83  Dec-2016          60988 -734926.0\n",
       "84  Jan-2017         138230   77242.0\n",
       "85  Feb-2017         671099  532869.0\n",
       "\n",
       "[86 rows x 3 columns]"
      ]
     },
     "execution_count": 10,
     "metadata": {},
     "output_type": "execute_result"
    }
   ],
   "source": [
    "dataset"
   ]
  },
  {
   "cell_type": "code",
   "execution_count": null,
   "id": "efcb8f50-0723-40ff-86d6-30ab857c817d",
   "metadata": {},
   "outputs": [],
   "source": [
    "\n",
    "\n",
    "loc_date_max = dataset.loc[dataset[\"Changes\"] == max_value,]\n",
    "print(loc_date_max)                         \n",
    "                           \n",
    "loc_date_min = dataset.loc[dataset[\"Changes\"] == min_value,\"Date\"]\n",
    "print(loc_date_min)\n",
    "    \n",
    "'''\n",
    "dataset.index[dataset[\"Changes\"]].tolist()\n",
    "print(loc_date_max)\n",
    "\n",
    "dataset[\"Changes\"].loc[max_value]\n",
    "print(loc_date_max)\n",
    "loc_date_min = dataset[\"Changes\"].loc[min_value]\n",
    "print(loc_date_min)\n",
    "'''    \n",
    "\n",
    "\n",
    "\n",
    "\n",
    "\n",
    "\n",
    "#The greatest decrease in losses (date and amount) over the entire period"
   ]
  },
  {
   "cell_type": "code",
   "execution_count": null,
   "id": "be404242-0bdf-467f-a59e-ee0089b646b8",
   "metadata": {},
   "outputs": [],
   "source": [
    "dataset.describe()\n"
   ]
  },
  {
   "cell_type": "code",
   "execution_count": null,
   "id": "d44430fb-e363-4a81-b403-f47673e5f5ed",
   "metadata": {},
   "outputs": [],
   "source": []
  }
 ],
 "metadata": {
  "kernelspec": {
   "display_name": "Python 3 (ipykernel)",
   "language": "python",
   "name": "python3"
  },
  "language_info": {
   "codemirror_mode": {
    "name": "ipython",
    "version": 3
   },
   "file_extension": ".py",
   "mimetype": "text/x-python",
   "name": "python",
   "nbconvert_exporter": "python",
   "pygments_lexer": "ipython3",
   "version": "3.7.10"
  }
 },
 "nbformat": 4,
 "nbformat_minor": 5
}
